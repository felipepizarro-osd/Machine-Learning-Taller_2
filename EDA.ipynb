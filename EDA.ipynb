{
 "cells": [
  {
   "cell_type": "code",
   "execution_count": 1,
   "id": "002c2124",
   "metadata": {},
   "outputs": [],
   "source": [
    "import pandas as pd  # Importa la biblioteca Pandas para el análisis y manipulación de datos tabulares\n",
    "\n",
    "import seaborn as sns  # Importa la biblioteca Seaborn para la visualización estadística de datos\n",
    "\n",
    "import plotly.express as px  # Importa la biblioteca Plotly Express para crear gráficos interactivos y expresivos\n",
    "\n",
    "import matplotlib.pyplot as plt  # Importa la biblioteca Matplotlib para la visualización básica de datos\n",
    "\n",
    "# Configuración específica para Jupyter Notebook para mostrar gráficos generados por Matplotlib en línea\n",
    "%matplotlib inline  \n",
    "\n",
    "# Importa funciones y clases necesarias para trabajar con Plotly fuera de línea\n",
    "from plotly.offline import download_plotlyjs, init_notebook_mode, plot, iplot  \n",
    "\n",
    "import json  # Importa el módulo json para trabajar con datos en formato JSON\n",
    "\n",
    "import ast  # Importa el módulo ast para analizar y evaluar expresiones de Python literalmente\n",
    "\n",
    "import numpy as np  # Importa la biblioteca NumPy para operaciones numéricas eficientes y manejo de matrices\n",
    "\n",
    "import warnings\n",
    "warnings.simplefilter(action='ignore', category=FutureWarning)\n"
   ]
  },
  {
   "cell_type": "code",
   "execution_count": 8,
   "id": "997f4577",
   "metadata": {},
   "outputs": [],
   "source": [
    "# Lectura del archivo \"DonSantiagoVinos-400.csv\"\n",
    "vinos_data= pd.read_csv(\"DonSantiagoVinos-400.csv\")\n",
    "\n",
    "# Lectura del archivo \"dStgo400.csv\"\n",
    "evaluaciones_vinos = pd.read_csv(\"dStgo400.csv\")"
   ]
  },
  {
   "cell_type": "code",
   "execution_count": 6,
   "id": "da68f57d",
   "metadata": {},
   "outputs": [
    {
     "name": "stdout",
     "output_type": "stream",
     "text": [
      "<class 'pandas.core.frame.DataFrame'>\n",
      "RangeIndex: 9396 entries, 0 to 9395\n",
      "Data columns (total 15 columns):\n",
      " #   Column                Non-Null Count  Dtype  \n",
      "---  ------                --------------  -----  \n",
      " 0   color_cepa            9396 non-null   object \n",
      " 1   acidez_fija           9396 non-null   float64\n",
      " 2   acidez_volatil        9396 non-null   float64\n",
      " 3   acido_citrico         9396 non-null   float64\n",
      " 4   azucar_residual       9396 non-null   float64\n",
      " 5   cloruros              9396 non-null   float64\n",
      " 6   dioxido_azufre_libre  9396 non-null   float64\n",
      " 7   dioxido_azufre_total  9396 non-null   float64\n",
      " 8   densidad              9396 non-null   float64\n",
      " 9   pH                    9396 non-null   float64\n",
      " 10  sulfatos              9396 non-null   float64\n",
      " 11  alcohol               9396 non-null   float64\n",
      " 12  calificacion          9396 non-null   int64  \n",
      " 13  precio                9396 non-null   int64  \n",
      " 14  nota_de_cata          9396 non-null   object \n",
      "dtypes: float64(11), int64(2), object(2)\n",
      "memory usage: 1.1+ MB\n"
     ]
    }
   ],
   "source": [
    "vinos_data.info()"
   ]
  },
  {
   "cell_type": "code",
   "execution_count": 10,
   "id": "9be99406",
   "metadata": {},
   "outputs": [
    {
     "name": "stdout",
     "output_type": "stream",
     "text": [
      "<class 'pandas.core.frame.DataFrame'>\n",
      "RangeIndex: 400 entries, 0 to 399\n",
      "Data columns (total 15 columns):\n",
      " #   Column                Non-Null Count  Dtype  \n",
      "---  ------                --------------  -----  \n",
      " 0   color_cepa            400 non-null    object \n",
      " 1   acidez_fija           400 non-null    float64\n",
      " 2   acidez_volatil        400 non-null    float64\n",
      " 3   acido_citrico         400 non-null    float64\n",
      " 4   azucar_residual       400 non-null    float64\n",
      " 5   cloruros              400 non-null    float64\n",
      " 6   dioxido_azufre_libre  400 non-null    float64\n",
      " 7   dioxido_azufre_total  400 non-null    float64\n",
      " 8   densidad              400 non-null    float64\n",
      " 9   pH                    400 non-null    float64\n",
      " 10  sulfatos              400 non-null    float64\n",
      " 11  alcohol               400 non-null    float64\n",
      " 12  calificacion          400 non-null    int64  \n",
      " 13  precio                0 non-null      float64\n",
      " 14  nota_de_cata          0 non-null      float64\n",
      "dtypes: float64(13), int64(1), object(1)\n",
      "memory usage: 47.0+ KB\n"
     ]
    }
   ],
   "source": [
    "evaluaciones_vinos.info()"
   ]
  },
  {
   "cell_type": "code",
   "execution_count": 15,
   "id": "ee16a925",
   "metadata": {},
   "outputs": [],
   "source": [
    "data = vinos_data"
   ]
  },
  {
   "cell_type": "code",
   "execution_count": 16,
   "id": "8614e4c9",
   "metadata": {},
   "outputs": [
    {
     "name": "stdout",
     "output_type": "stream",
     "text": [
      "Numero de observaciones (registros) : 9396\n",
      "Numero de variables (columnas) :   15\n"
     ]
    }
   ],
   "source": [
    "print(\"Numero de observaciones (registros) : %4d\"%(data.shape[0]))\n",
    "print(\"Numero de variables (columnas) : %4d\"%(data.shape[1]))"
   ]
  },
  {
   "cell_type": "code",
   "execution_count": null,
   "id": "84266a6f",
   "metadata": {},
   "outputs": [],
   "source": [
    "\n"
   ]
  },
  {
   "cell_type": "code",
   "execution_count": null,
   "id": "bb21c1b7",
   "metadata": {},
   "outputs": [],
   "source": []
  }
 ],
 "metadata": {
  "kernelspec": {
   "display_name": "Python 3 (ipykernel)",
   "language": "python",
   "name": "python3"
  },
  "language_info": {
   "codemirror_mode": {
    "name": "ipython",
    "version": 3
   },
   "file_extension": ".py",
   "mimetype": "text/x-python",
   "name": "python",
   "nbconvert_exporter": "python",
   "pygments_lexer": "ipython3",
   "version": "3.10.9"
  }
 },
 "nbformat": 4,
 "nbformat_minor": 5
}
